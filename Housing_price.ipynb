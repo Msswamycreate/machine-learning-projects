{
  "nbformat": 4,
  "nbformat_minor": 0,
  "metadata": {
    "colab": {
      "name": "Housing_price.ipynb",
      "provenance": [],
      "collapsed_sections": [],
      "include_colab_link": true
    },
    "kernelspec": {
      "display_name": "Python 3",
      "language": "python",
      "name": "python3"
    },
    "language_info": {
      "codemirror_mode": {
        "name": "ipython",
        "version": 3
      },
      "file_extension": ".py",
      "mimetype": "text/x-python",
      "name": "python",
      "nbconvert_exporter": "python",
      "pygments_lexer": "ipython3",
      "version": "3.7.3"
    }
  },
  "cells": [
    {
      "cell_type": "markdown",
      "metadata": {
        "id": "view-in-github",
        "colab_type": "text"
      },
      "source": [
        "<a href=\"https://colab.research.google.com/github/Msswamycreate/machine-learning-projects/blob/master/Housing_price.ipynb\" target=\"_parent\"><img src=\"https://colab.research.google.com/assets/colab-badge.svg\" alt=\"Open In Colab\"/></a>"
      ]
    },
    {
      "cell_type": "code",
      "metadata": {
        "colab_type": "code",
        "id": "RHFdDxoKofyd",
        "colab": {
          "base_uri": "https://localhost:8080/",
          "height": 122
        },
        "outputId": "a88a6853-3a72-420f-d261-78de8a1337e4"
      },
      "source": [
        "from google.colab import drive\n",
        "drive.mount('/content/drive')"
      ],
      "execution_count": null,
      "outputs": [
        {
          "output_type": "stream",
          "text": [
            "Go to this URL in a browser: https://accounts.google.com/o/oauth2/auth?client_id=947318989803-6bn6qk8qdgf4n4g3pfee6491hc0brc4i.apps.googleusercontent.com&redirect_uri=urn%3aietf%3awg%3aoauth%3a2.0%3aoob&scope=email%20https%3a%2f%2fwww.googleapis.com%2fauth%2fdocs.test%20https%3a%2f%2fwww.googleapis.com%2fauth%2fdrive%20https%3a%2f%2fwww.googleapis.com%2fauth%2fdrive.photos.readonly%20https%3a%2f%2fwww.googleapis.com%2fauth%2fpeopleapi.readonly&response_type=code\n",
            "\n",
            "Enter your authorization code:\n",
            "··········\n",
            "Mounted at /content/drive\n"
          ],
          "name": "stdout"
        }
      ]
    },
    {
      "cell_type": "code",
      "metadata": {
        "colab_type": "code",
        "id": "W3svbP7Honup",
        "colab": {
          "base_uri": "https://localhost:8080/",
          "height": 34
        },
        "outputId": "cadc93fb-450e-4e35-efd5-9377f3ce7aa8"
      },
      "source": [
        "import os\n",
        "os.chdir('drive/My Drive/Colab Notebooks/ML_and_NN_course/module 1')\n",
        "cwd=os.getcwd()\n",
        "print(cwd)"
      ],
      "execution_count": null,
      "outputs": [
        {
          "output_type": "stream",
          "text": [
            "/content/drive/My Drive/Colab Notebooks/ML_and_NN_course/module 1\n"
          ],
          "name": "stdout"
        }
      ]
    },
    {
      "cell_type": "code",
      "metadata": {
        "colab_type": "code",
        "id": "cazB7H1HpFGT",
        "colab": {}
      },
      "source": [
        "import numpy as np\n",
        "import pandas as pd\n",
        "import matplotlib.pyplot as plt\n",
        "from utils import *"
      ],
      "execution_count": null,
      "outputs": []
    },
    {
      "cell_type": "code",
      "metadata": {
        "colab_type": "code",
        "id": "YFw8y5wgYWkd",
        "colab": {
          "base_uri": "https://localhost:8080/",
          "height": 204
        },
        "outputId": "921f9746-24a2-4248-dd10-e7886d803f2d"
      },
      "source": [
        "data = pd.read_csv('train_data.csv', sep = ',')\n",
        "data.head()"
      ],
      "execution_count": null,
      "outputs": [
        {
          "output_type": "execute_result",
          "data": {
            "text/html": [
              "<div>\n",
              "<style scoped>\n",
              "    .dataframe tbody tr th:only-of-type {\n",
              "        vertical-align: middle;\n",
              "    }\n",
              "\n",
              "    .dataframe tbody tr th {\n",
              "        vertical-align: top;\n",
              "    }\n",
              "\n",
              "    .dataframe thead th {\n",
              "        text-align: right;\n",
              "    }\n",
              "</style>\n",
              "<table border=\"1\" class=\"dataframe\">\n",
              "  <thead>\n",
              "    <tr style=\"text-align: right;\">\n",
              "      <th></th>\n",
              "      <th>size</th>\n",
              "      <th>price</th>\n",
              "    </tr>\n",
              "  </thead>\n",
              "  <tbody>\n",
              "    <tr>\n",
              "      <th>0</th>\n",
              "      <td>1600</td>\n",
              "      <td>329900</td>\n",
              "    </tr>\n",
              "    <tr>\n",
              "      <th>1</th>\n",
              "      <td>2400</td>\n",
              "      <td>369000</td>\n",
              "    </tr>\n",
              "    <tr>\n",
              "      <th>2</th>\n",
              "      <td>1416</td>\n",
              "      <td>232000</td>\n",
              "    </tr>\n",
              "    <tr>\n",
              "      <th>3</th>\n",
              "      <td>3000</td>\n",
              "      <td>539900</td>\n",
              "    </tr>\n",
              "    <tr>\n",
              "      <th>4</th>\n",
              "      <td>1985</td>\n",
              "      <td>299900</td>\n",
              "    </tr>\n",
              "  </tbody>\n",
              "</table>\n",
              "</div>"
            ],
            "text/plain": [
              "   size   price\n",
              "0  1600  329900\n",
              "1  2400  369000\n",
              "2  1416  232000\n",
              "3  3000  539900\n",
              "4  1985  299900"
            ]
          },
          "metadata": {
            "tags": []
          },
          "execution_count": 8
        }
      ]
    },
    {
      "cell_type": "code",
      "metadata": {
        "colab_type": "code",
        "id": "yl-DN1hTcpAb",
        "colab": {
          "base_uri": "https://localhost:8080/",
          "height": 297
        },
        "outputId": "25bfc86f-7535-45a9-9abd-6fd8021e3395"
      },
      "source": [
        "data.describe()"
      ],
      "execution_count": null,
      "outputs": [
        {
          "output_type": "execute_result",
          "data": {
            "text/html": [
              "<div>\n",
              "<style scoped>\n",
              "    .dataframe tbody tr th:only-of-type {\n",
              "        vertical-align: middle;\n",
              "    }\n",
              "\n",
              "    .dataframe tbody tr th {\n",
              "        vertical-align: top;\n",
              "    }\n",
              "\n",
              "    .dataframe thead th {\n",
              "        text-align: right;\n",
              "    }\n",
              "</style>\n",
              "<table border=\"1\" class=\"dataframe\">\n",
              "  <thead>\n",
              "    <tr style=\"text-align: right;\">\n",
              "      <th></th>\n",
              "      <th>size</th>\n",
              "      <th>price</th>\n",
              "    </tr>\n",
              "  </thead>\n",
              "  <tbody>\n",
              "    <tr>\n",
              "      <th>count</th>\n",
              "      <td>46.000000</td>\n",
              "      <td>46.000000</td>\n",
              "    </tr>\n",
              "    <tr>\n",
              "      <th>mean</th>\n",
              "      <td>1998.434783</td>\n",
              "      <td>339119.456522</td>\n",
              "    </tr>\n",
              "    <tr>\n",
              "      <th>std</th>\n",
              "      <td>803.333019</td>\n",
              "      <td>126103.418369</td>\n",
              "    </tr>\n",
              "    <tr>\n",
              "      <th>min</th>\n",
              "      <td>852.000000</td>\n",
              "      <td>169900.000000</td>\n",
              "    </tr>\n",
              "    <tr>\n",
              "      <th>25%</th>\n",
              "      <td>1429.500000</td>\n",
              "      <td>249900.000000</td>\n",
              "    </tr>\n",
              "    <tr>\n",
              "      <th>50%</th>\n",
              "      <td>1870.000000</td>\n",
              "      <td>299900.000000</td>\n",
              "    </tr>\n",
              "    <tr>\n",
              "      <th>75%</th>\n",
              "      <td>2284.500000</td>\n",
              "      <td>368875.000000</td>\n",
              "    </tr>\n",
              "    <tr>\n",
              "      <th>max</th>\n",
              "      <td>4478.000000</td>\n",
              "      <td>699900.000000</td>\n",
              "    </tr>\n",
              "  </tbody>\n",
              "</table>\n",
              "</div>"
            ],
            "text/plain": [
              "              size          price\n",
              "count    46.000000      46.000000\n",
              "mean   1998.434783  339119.456522\n",
              "std     803.333019  126103.418369\n",
              "min     852.000000  169900.000000\n",
              "25%    1429.500000  249900.000000\n",
              "50%    1870.000000  299900.000000\n",
              "75%    2284.500000  368875.000000\n",
              "max    4478.000000  699900.000000"
            ]
          },
          "metadata": {
            "tags": []
          },
          "execution_count": 9
        }
      ]
    },
    {
      "cell_type": "code",
      "metadata": {
        "colab_type": "code",
        "id": "fTJ1fKOTebY8",
        "colab": {
          "base_uri": "https://localhost:8080/",
          "height": 351
        },
        "outputId": "5eb4495e-ec23-4440-d1b4-a36a07b2ca39"
      },
      "source": [
        "data.plot(kind='scatter', x='size', y='price', figsize=(10,5))"
      ],
      "execution_count": null,
      "outputs": [
        {
          "output_type": "execute_result",
          "data": {
            "text/plain": [
              "<matplotlib.axes._subplots.AxesSubplot at 0x7f8fa849a860>"
            ]
          },
          "metadata": {
            "tags": []
          },
          "execution_count": 10
        },
        {
          "output_type": "display_data",
          "data": {
            "image/png": "[encoded data removed]",
            "text/plain": [
              "<Figure size 720x360 with 1 Axes>"
            ]
          },
          "metadata": {
            "tags": [],
            "needs_background": "light"
          }
        }
      ]
    },
    {
      "cell_type": "markdown",
      "metadata": {
        "colab_type": "text",
        "id": "H55WHAPzb1dA"
      },
      "source": [
        "# Feature scaling\n",
        "We can speed up gradient descent by having each of our input values in roughly the same range. This is because θ will descend quickly on small ranges and slowly on large ranges, and so will oscillate inefficiently down to the optimum when the variables are very uneven.\n",
        ">\n",
        "The way to prevent this is to modify the ranges of our input variables so that they are all roughly the same. Ideally:\n",
        ">\n",
        "      −1 ≤ x≤ 1\n",
        "\n",
        "> \n",
        "\n",
        "\n",
        "These aren’t exact requirements; we are only trying to speed things up. The goal is to get all input variables into roughly one of these ranges, give or take a few.\n",
        "> \n",
        "Two techniques to help with this are **feature scaling and mean normalization**. Feature scaling involves dividing the input values by the range (i.e. the maximum value minus the minimum value) of the input variable, resulting in a new range of just 1. Mean normalization involves subtracting the average value for an input variable from the values for that input variable resulting in a new average value for the input variable of just zero. To implement both of these techniques, adjust your input values as shown in this formula:\n",
        "                                                  \n",
        "![alt text](https://miro.medium.com/max/143/1*WHNo6emX78_Ff9s7ahh2Eg.png)\n"
      ]
    },
    {
      "cell_type": "code",
      "metadata": {
        "colab_type": "code",
        "id": "tkRBM3lEpI5I",
        "colab": {}
      },
      "source": [
        "data = (data - np.mean(data))/np.std(data)"
      ],
      "execution_count": null,
      "outputs": []
    },
    {
      "cell_type": "code",
      "metadata": {
        "colab_type": "code",
        "id": "5nQ_B25Dpe4c",
        "colab": {
          "base_uri": "https://localhost:8080/",
          "height": 297
        },
        "outputId": "b2e2381f-d65d-4e77-f477-0d24bb788f15"
      },
      "source": [
        "data.describe()"
      ],
      "execution_count": null,
      "outputs": [
        {
          "output_type": "execute_result",
          "data": {
            "text/html": [
              "<div>\n",
              "<style scoped>\n",
              "    .dataframe tbody tr th:only-of-type {\n",
              "        vertical-align: middle;\n",
              "    }\n",
              "\n",
              "    .dataframe tbody tr th {\n",
              "        vertical-align: top;\n",
              "    }\n",
              "\n",
              "    .dataframe thead th {\n",
              "        text-align: right;\n",
              "    }\n",
              "</style>\n",
              "<table border=\"1\" class=\"dataframe\">\n",
              "  <thead>\n",
              "    <tr style=\"text-align: right;\">\n",
              "      <th></th>\n",
              "      <th>size</th>\n",
              "      <th>price</th>\n",
              "    </tr>\n",
              "  </thead>\n",
              "  <tbody>\n",
              "    <tr>\n",
              "      <th>count</th>\n",
              "      <td>4.600000e+01</td>\n",
              "      <td>4.600000e+01</td>\n",
              "    </tr>\n",
              "    <tr>\n",
              "      <th>mean</th>\n",
              "      <td>-1.399846e-16</td>\n",
              "      <td>-6.516526e-17</td>\n",
              "    </tr>\n",
              "    <tr>\n",
              "      <th>std</th>\n",
              "      <td>1.011050e+00</td>\n",
              "      <td>1.011050e+00</td>\n",
              "    </tr>\n",
              "    <tr>\n",
              "      <th>min</th>\n",
              "      <td>-1.442867e+00</td>\n",
              "      <td>-1.356738e+00</td>\n",
              "    </tr>\n",
              "    <tr>\n",
              "      <th>25%</th>\n",
              "      <td>-7.160437e-01</td>\n",
              "      <td>-7.153282e-01</td>\n",
              "    </tr>\n",
              "    <tr>\n",
              "      <th>50%</th>\n",
              "      <td>-1.616440e-01</td>\n",
              "      <td>-3.144469e-01</td>\n",
              "    </tr>\n",
              "    <tr>\n",
              "      <th>75%</th>\n",
              "      <td>3.600328e-01</td>\n",
              "      <td>2.385688e-01</td>\n",
              "    </tr>\n",
              "    <tr>\n",
              "      <th>max</th>\n",
              "      <td>3.120704e+00</td>\n",
              "      <td>2.892604e+00</td>\n",
              "    </tr>\n",
              "  </tbody>\n",
              "</table>\n",
              "</div>"
            ],
            "text/plain": [
              "               size         price\n",
              "count  4.600000e+01  4.600000e+01\n",
              "mean  -1.399846e-16 -6.516526e-17\n",
              "std    1.011050e+00  1.011050e+00\n",
              "min   -1.442867e+00 -1.356738e+00\n",
              "25%   -7.160437e-01 -7.153282e-01\n",
              "50%   -1.616440e-01 -3.144469e-01\n",
              "75%    3.600328e-01  2.385688e-01\n",
              "max    3.120704e+00  2.892604e+00"
            ]
          },
          "metadata": {
            "tags": []
          },
          "execution_count": 12
        }
      ]
    },
    {
      "cell_type": "code",
      "metadata": {
        "colab_type": "code",
        "id": "gNOewKvouh6z",
        "colab": {
          "base_uri": "https://localhost:8080/",
          "height": 351
        },
        "outputId": "f128b2f5-e7f3-4d56-acff-043db36b92e0"
      },
      "source": [
        "data.plot(kind='scatter', x='size', y='price', figsize=(10,5))"
      ],
      "execution_count": null,
      "outputs": [
        {
          "output_type": "execute_result",
          "data": {
            "text/plain": [
              "<matplotlib.axes._subplots.AxesSubplot at 0x7f8fa7f5f978>"
            ]
          },
          "metadata": {
            "tags": []
          },
          "execution_count": 13
        },
        {
          "output_type": "display_data",
          "data": {
            "image/png": "[encoded data removed]",
            "text/plain": [
              "<Figure size 720x360 with 1 Axes>"
            ]
          },
          "metadata": {
            "tags": [],
            "needs_background": "light"
          }
        }
      ]
    },
    {
      "cell_type": "code",
      "metadata": {
        "colab_type": "code",
        "id": "f2v0TNyHxDH3",
        "colab": {}
      },
      "source": [
        "#theta = np.matrix(np.array([0,0]))\n",
        "theta=np.random.randn(1,2)"
      ],
      "execution_count": null,
      "outputs": []
    },
    {
      "cell_type": "markdown",
      "metadata": {
        "id": "lNErIY8PjLCO",
        "colab_type": "text"
      },
      "source": [
        "### Inserting a Column of ones\n",
        "since the theta(parameters) has 2 elements we can obtain hypothesis function simply by dot product between input\n",
        "and theta if we insert a column of ones so that theta[0] * 1 = theta[0] only [we use it inside computecost funtion only]\n",
        ".Hence the dot product will compute (theta[0] * 1 + theta[1]*data['x']) which is a required hypothesis function"
      ]
    },
    {
      "cell_type": "code",
      "metadata": {
        "colab_type": "code",
        "id": "q62NGU3X3GQI",
        "colab": {
          "base_uri": "https://localhost:8080/",
          "height": 204
        },
        "outputId": "8ee19a24-6b17-425d-84ec-537180a1efff"
      },
      "source": [
        "data.insert(0, 'Ones', 1)\n",
        "data.head()"
      ],
      "execution_count": null,
      "outputs": [
        {
          "output_type": "execute_result",
          "data": {
            "text/html": [
              "<div>\n",
              "<style scoped>\n",
              "    .dataframe tbody tr th:only-of-type {\n",
              "        vertical-align: middle;\n",
              "    }\n",
              "\n",
              "    .dataframe tbody tr th {\n",
              "        vertical-align: top;\n",
              "    }\n",
              "\n",
              "    .dataframe thead th {\n",
              "        text-align: right;\n",
              "    }\n",
              "</style>\n",
              "<table border=\"1\" class=\"dataframe\">\n",
              "  <thead>\n",
              "    <tr style=\"text-align: right;\">\n",
              "      <th></th>\n",
              "      <th>Ones</th>\n",
              "      <th>size</th>\n",
              "      <th>price</th>\n",
              "    </tr>\n",
              "  </thead>\n",
              "  <tbody>\n",
              "    <tr>\n",
              "      <th>0</th>\n",
              "      <td>1</td>\n",
              "      <td>-0.501458</td>\n",
              "      <td>-0.073918</td>\n",
              "    </tr>\n",
              "    <tr>\n",
              "      <th>1</th>\n",
              "      <td>1</td>\n",
              "      <td>0.505398</td>\n",
              "      <td>0.239571</td>\n",
              "    </tr>\n",
              "    <tr>\n",
              "      <th>2</th>\n",
              "      <td>1</td>\n",
              "      <td>-0.733034</td>\n",
              "      <td>-0.858844</td>\n",
              "    </tr>\n",
              "    <tr>\n",
              "      <th>3</th>\n",
              "      <td>1</td>\n",
              "      <td>1.260539</td>\n",
              "      <td>1.609783</td>\n",
              "    </tr>\n",
              "    <tr>\n",
              "      <th>4</th>\n",
              "      <td>1</td>\n",
              "      <td>-0.016909</td>\n",
              "      <td>-0.314447</td>\n",
              "    </tr>\n",
              "  </tbody>\n",
              "</table>\n",
              "</div>"
            ],
            "text/plain": [
              "   Ones      size     price\n",
              "0     1 -0.501458 -0.073918\n",
              "1     1  0.505398  0.239571\n",
              "2     1 -0.733034 -0.858844\n",
              "3     1  1.260539  1.609783\n",
              "4     1 -0.016909 -0.314447"
            ]
          },
          "metadata": {
            "tags": []
          },
          "execution_count": 15
        }
      ]
    },
    {
      "cell_type": "code",
      "metadata": {
        "colab_type": "code",
        "id": "Sm8J1ief3Yiv",
        "colab": {
          "base_uri": "https://localhost:8080/",
          "height": 204
        },
        "outputId": "622fd7c0-c3fa-47ad-eb97-c29f0efc1182"
      },
      "source": [
        "X=data.iloc[:,0:2]\n",
        "X.head()"
      ],
      "execution_count": null,
      "outputs": [
        {
          "output_type": "execute_result",
          "data": {
            "text/html": [
              "<div>\n",
              "<style scoped>\n",
              "    .dataframe tbody tr th:only-of-type {\n",
              "        vertical-align: middle;\n",
              "    }\n",
              "\n",
              "    .dataframe tbody tr th {\n",
              "        vertical-align: top;\n",
              "    }\n",
              "\n",
              "    .dataframe thead th {\n",
              "        text-align: right;\n",
              "    }\n",
              "</style>\n",
              "<table border=\"1\" class=\"dataframe\">\n",
              "  <thead>\n",
              "    <tr style=\"text-align: right;\">\n",
              "      <th></th>\n",
              "      <th>Ones</th>\n",
              "      <th>size</th>\n",
              "    </tr>\n",
              "  </thead>\n",
              "  <tbody>\n",
              "    <tr>\n",
              "      <th>0</th>\n",
              "      <td>1</td>\n",
              "      <td>-0.501458</td>\n",
              "    </tr>\n",
              "    <tr>\n",
              "      <th>1</th>\n",
              "      <td>1</td>\n",
              "      <td>0.505398</td>\n",
              "    </tr>\n",
              "    <tr>\n",
              "      <th>2</th>\n",
              "      <td>1</td>\n",
              "      <td>-0.733034</td>\n",
              "    </tr>\n",
              "    <tr>\n",
              "      <th>3</th>\n",
              "      <td>1</td>\n",
              "      <td>1.260539</td>\n",
              "    </tr>\n",
              "    <tr>\n",
              "      <th>4</th>\n",
              "      <td>1</td>\n",
              "      <td>-0.016909</td>\n",
              "    </tr>\n",
              "  </tbody>\n",
              "</table>\n",
              "</div>"
            ],
            "text/plain": [
              "   Ones      size\n",
              "0     1 -0.501458\n",
              "1     1  0.505398\n",
              "2     1 -0.733034\n",
              "3     1  1.260539\n",
              "4     1 -0.016909"
            ]
          },
          "metadata": {
            "tags": []
          },
          "execution_count": 16
        }
      ]
    },
    {
      "cell_type": "code",
      "metadata": {
        "colab_type": "code",
        "id": "sNMaOnlz3zuI",
        "colab": {
          "base_uri": "https://localhost:8080/",
          "height": 119
        },
        "outputId": "deced8b3-8d4d-43f8-f236-7f0b09925ddb"
      },
      "source": [
        "y=data['price']\n",
        "y.head(),y.shape"
      ],
      "execution_count": null,
      "outputs": [
        {
          "output_type": "execute_result",
          "data": {
            "text/plain": [
              "(0   -0.073918\n",
              " 1    0.239571\n",
              " 2   -0.858844\n",
              " 3    1.609783\n",
              " 4   -0.314447\n",
              " Name: price, dtype: float64, (46,))"
            ]
          },
          "metadata": {
            "tags": []
          },
          "execution_count": 17
        }
      ]
    },
    {
      "cell_type": "code",
      "metadata": {
        "colab_type": "code",
        "id": "9yCD4zV75a80",
        "colab": {}
      },
      "source": [
        "x = np.matrix(X)\n",
        "y = np.matrix(y)\n",
        "y=y.T"
      ],
      "execution_count": null,
      "outputs": []
    },
    {
      "cell_type": "code",
      "metadata": {
        "colab_type": "code",
        "id": "gk7y23hKKOmI",
        "colab": {
          "base_uri": "https://localhost:8080/",
          "height": 34
        },
        "outputId": "3278652b-4a3a-4a2b-d68d-56327802cdd1"
      },
      "source": [
        "x.shape, theta.shape, y.shape"
      ],
      "execution_count": null,
      "outputs": [
        {
          "output_type": "execute_result",
          "data": {
            "text/plain": [
              "((46, 2), (1, 2), (46, 1))"
            ]
          },
          "metadata": {
            "tags": []
          },
          "execution_count": 19
        }
      ]
    },
    {
      "cell_type": "code",
      "metadata": {
        "colab_type": "code",
        "id": "hwT-LZotMmiB",
        "colab": {
          "base_uri": "https://localhost:8080/",
          "height": 34
        },
        "outputId": "b48e3f12-177b-43ac-e978-e211aacc5ee4"
      },
      "source": [
        "theta"
      ],
      "execution_count": null,
      "outputs": [
        {
          "output_type": "execute_result",
          "data": {
            "text/plain": [
              "array([[-0.38273504, -0.88430753]])"
            ]
          },
          "metadata": {
            "tags": []
          },
          "execution_count": 20
        }
      ]
    },
    {
      "cell_type": "code",
      "metadata": {
        "colab_type": "code",
        "id": "MRrKklxxvZLw",
        "colab": {}
      },
      "source": [
        "\n",
        "def computeCost(x, y, theta):\n",
        "    \"\"\"\n",
        "    Compute cost for linear regression. Computes the cost of using theta as the\n",
        "    parameter for linear regression to fit the data points in X and y.\n",
        "    \n",
        "    Parameters\n",
        "    ----------\n",
        "    X : array_like\n",
        "        The input dataset of shape (m , n+1) <Here n is 1 and we added one more column of ones>, where m is the number of examples,\n",
        "        and n is the number of features. <Hence the dimension is (46,2)\n",
        "    \n",
        "    y : array_like\n",
        "        The values of the function at each data point. This is a vector of\n",
        "        shape (m, 1).\n",
        "    \n",
        "    theta : array_like\n",
        "        The parameters for the regression function. This is a vector of \n",
        "        shape (1,n+1 ).\n",
        "    \n",
        "    Returns\n",
        "    -------\n",
        "    J : float\n",
        "        The value of the regression cost function.\n",
        "    \n",
        "    Instructions\n",
        "    ------------\n",
        "    Compute the cost of a particular choice of theta. \n",
        "    You should set J to the cost.\n",
        "    \"\"\"\n",
        "    \n",
        "    # initialize some useful values\n",
        "    m =46  # number of training examples\n",
        "    \n",
        "    # You need to return the following variables correctly\n",
        "    J = 0\n",
        "   \n",
        "    h = np.matmul(x, theta.T)\n",
        "    \n",
        "    J = (1/(2 * m)) * np.sum(np.square(h - y))\n",
        "    \n",
        "   \n",
        "    return J"
      ],
      "execution_count": null,
      "outputs": []
    },
    {
      "cell_type": "code",
      "metadata": {
        "colab_type": "code",
        "id": "CyW3OMlxwrFW",
        "colab": {
          "base_uri": "https://localhost:8080/",
          "height": 34
        },
        "outputId": "47ddbd91-a9a7-40da-b0d7-059698a70bda"
      },
      "source": [
        "computeCost(x,y,theta)\n"
      ],
      "execution_count": null,
      "outputs": [
        {
          "output_type": "execute_result",
          "data": {
            "text/plain": [
              "1.7211467587346596"
            ]
          },
          "metadata": {
            "tags": []
          },
          "execution_count": 22
        }
      ]
    },
    {
      "cell_type": "code",
      "metadata": {
        "colab_type": "code",
        "id": "YpbB7L-DBxLp",
        "colab": {
          "base_uri": "https://localhost:8080/",
          "height": 731
        },
        "outputId": "1b19d1e1-bdec-452e-a894-7e46f4bdab0f"
      },
      "source": [
        "num_iters=250\n",
        "new_theta, cost = gradientDescent(x, y, theta,num_iters, lr=0.1)\n",
        "print(new_theta, cost)"
      ],
      "execution_count": null,
      "outputs": [
        {
          "output_type": "stream",
          "text": [
            "[[-1.39155611e-12  8.55928253e-01]] [1.41953062 1.17522155 0.97733121 0.81704003 0.68720417 0.58203713\n",
            " 0.49685182 0.42785172 0.37196164 0.32669068 0.2900212  0.26031892\n",
            " 0.23626007 0.21677241 0.2009874  0.18820154 0.177845   0.1694562\n",
            " 0.16266127 0.15715737 0.15269922 0.14908812 0.14616312 0.14379388\n",
            " 0.14187479 0.14032033 0.13906121 0.13804133 0.13721523 0.13654608\n",
            " 0.13600408 0.13556505 0.13520944 0.13492139 0.13468808 0.13449909\n",
            " 0.13434601 0.13422202 0.13412158 0.13404023 0.13397434 0.13392096\n",
            " 0.13387773 0.13384271 0.13381434 0.13379136 0.13377275 0.13375768\n",
            " 0.13374547 0.13373558 0.13372757 0.13372108 0.13371582 0.13371156\n",
            " 0.13370811 0.13370532 0.13370306 0.13370123 0.13369974 0.13369854\n",
            " 0.13369757 0.13369678 0.13369614 0.13369562 0.1336952  0.13369486\n",
            " 0.13369459 0.13369436 0.13369418 0.13369404 0.13369392 0.13369382\n",
            " 0.13369374 0.13369368 0.13369363 0.13369359 0.13369356 0.13369353\n",
            " 0.13369351 0.13369349 0.13369347 0.13369346 0.13369345 0.13369345\n",
            " 0.13369344 0.13369343 0.13369343 0.13369343 0.13369342 0.13369342\n",
            " 0.13369342 0.13369342 0.13369342 0.13369342 0.13369342 0.13369342\n",
            " 0.13369341 0.13369341 0.13369341 0.13369341 0.13369341 0.13369341\n",
            " 0.13369341 0.13369341 0.13369341 0.13369341 0.13369341 0.13369341\n",
            " 0.13369341 0.13369341 0.13369341 0.13369341 0.13369341 0.13369341\n",
            " 0.13369341 0.13369341 0.13369341 0.13369341 0.13369341 0.13369341\n",
            " 0.13369341 0.13369341 0.13369341 0.13369341 0.13369341 0.13369341\n",
            " 0.13369341 0.13369341 0.13369341 0.13369341 0.13369341 0.13369341\n",
            " 0.13369341 0.13369341 0.13369341 0.13369341 0.13369341 0.13369341\n",
            " 0.13369341 0.13369341 0.13369341 0.13369341 0.13369341 0.13369341\n",
            " 0.13369341 0.13369341 0.13369341 0.13369341 0.13369341 0.13369341\n",
            " 0.13369341 0.13369341 0.13369341 0.13369341 0.13369341 0.13369341\n",
            " 0.13369341 0.13369341 0.13369341 0.13369341 0.13369341 0.13369341\n",
            " 0.13369341 0.13369341 0.13369341 0.13369341 0.13369341 0.13369341\n",
            " 0.13369341 0.13369341 0.13369341 0.13369341 0.13369341 0.13369341\n",
            " 0.13369341 0.13369341 0.13369341 0.13369341 0.13369341 0.13369341\n",
            " 0.13369341 0.13369341 0.13369341 0.13369341 0.13369341 0.13369341\n",
            " 0.13369341 0.13369341 0.13369341 0.13369341 0.13369341 0.13369341\n",
            " 0.13369341 0.13369341 0.13369341 0.13369341 0.13369341 0.13369341\n",
            " 0.13369341 0.13369341 0.13369341 0.13369341 0.13369341 0.13369341\n",
            " 0.13369341 0.13369341 0.13369341 0.13369341 0.13369341 0.13369341\n",
            " 0.13369341 0.13369341 0.13369341 0.13369341 0.13369341 0.13369341\n",
            " 0.13369341 0.13369341 0.13369341 0.13369341 0.13369341 0.13369341\n",
            " 0.13369341 0.13369341 0.13369341 0.13369341 0.13369341 0.13369341\n",
            " 0.13369341 0.13369341 0.13369341 0.13369341 0.13369341 0.13369341\n",
            " 0.13369341 0.13369341 0.13369341 0.13369341 0.13369341 0.13369341\n",
            " 0.13369341 0.13369341 0.13369341 0.13369341 0.13369341 0.13369341\n",
            " 0.13369341 0.13369341 0.13369341 0.13369341]\n"
          ],
          "name": "stdout"
        }
      ]
    },
    {
      "cell_type": "code",
      "metadata": {
        "colab_type": "code",
        "id": "dOwOi4OhDza6",
        "colab": {
          "base_uri": "https://localhost:8080/",
          "height": 180
        },
        "outputId": "32fc9a44-8c30-49f5-9f66-cdc77e6ab6a8"
      },
      "source": [
        "Model_price = new_theta[0, 0] + (new_theta[0, 1] * x) \n",
        "print(Model_price)"
      ],
      "execution_count": null,
      "outputs": [
        {
          "output_type": "error",
          "ename": "NameError",
          "evalue": "ignored",
          "traceback": [
            "\u001b[0;31m---------------------------------------------------------------------------\u001b[0m",
            "\u001b[0;31mNameError\u001b[0m                                 Traceback (most recent call last)",
            "\u001b[0;32m<ipython-input-1-28e6da6d8de8>\u001b[0m in \u001b[0;36m<module>\u001b[0;34m()\u001b[0m\n\u001b[0;32m----> 1\u001b[0;31m \u001b[0mModel_price\u001b[0m \u001b[0;34m=\u001b[0m \u001b[0mnew_theta\u001b[0m\u001b[0;34m[\u001b[0m\u001b[0;36m0\u001b[0m\u001b[0;34m,\u001b[0m \u001b[0;36m0\u001b[0m\u001b[0;34m]\u001b[0m \u001b[0;34m+\u001b[0m \u001b[0;34m(\u001b[0m\u001b[0mnew_theta\u001b[0m\u001b[0;34m[\u001b[0m\u001b[0;36m0\u001b[0m\u001b[0;34m,\u001b[0m \u001b[0;36m1\u001b[0m\u001b[0;34m]\u001b[0m \u001b[0;34m*\u001b[0m \u001b[0mx\u001b[0m\u001b[0;34m)\u001b[0m\u001b[0;34m\u001b[0m\u001b[0;34m\u001b[0m\u001b[0m\n\u001b[0m\u001b[1;32m      2\u001b[0m \u001b[0mprint\u001b[0m\u001b[0;34m(\u001b[0m\u001b[0mModel_price\u001b[0m\u001b[0;34m)\u001b[0m\u001b[0;34m\u001b[0m\u001b[0;34m\u001b[0m\u001b[0m\n",
            "\u001b[0;31mNameError\u001b[0m: name 'new_theta' is not defined"
          ]
        }
      ]
    },
    {
      "cell_type": "code",
      "metadata": {
        "colab_type": "code",
        "id": "74U9V3pUD3C-",
        "colab": {
          "base_uri": "https://localhost:8080/",
          "height": 367
        },
        "outputId": "99c2db99-1ae4-4362-f36c-6d23a14ad9cf"
      },
      "source": [
        "\n",
        "fig, ax = plt.subplots(figsize=(10,5))\n",
        "ax.plot(x, Model_price, 'r', label='Prediction')\n",
        "ax.scatter(data['size'],data.price, label='Training Data')\n",
        "ax.legend(loc=2)\n",
        "ax.set_xlabel('Size')\n",
        "ax.set_ylabel('Price')\n",
        "ax.set_title('Predicted Price vs. Size')"
      ],
      "execution_count": null,
      "outputs": [
        {
          "output_type": "execute_result",
          "data": {
            "text/plain": [
              "Text(0.5, 1.0, 'Predicted Price vs. Size')"
            ]
          },
          "metadata": {
            "tags": []
          },
          "execution_count": 25
        },
        {
          "output_type": "display_data",
          "data": {
            "image/png": "[encoded data removed]",
            "text/plain": [
              "<Figure size 720x360 with 1 Axes>"
            ]
          },
          "metadata": {
            "tags": [],
            "needs_background": "light"
          }
        }
      ]
    },
    {
      "cell_type": "code",
      "metadata": {
        "colab_type": "code",
        "id": "2-Ibu83vJQNO",
        "colab": {
          "base_uri": "https://localhost:8080/",
          "height": 530
        },
        "outputId": "1770c9d1-1799-407d-e83a-712f0625316a"
      },
      "source": [
        "fig, ax = plt.subplots(figsize=(12,8))\n",
        "ax.plot(np.arange(num_iters), cost, 'r')\n",
        "ax.set_xlabel('Iterations')\n",
        "ax.set_ylabel('Cost')\n",
        "ax.set_title('MSE vs. Iterations')"
      ],
      "execution_count": null,
      "outputs": [
        {
          "output_type": "execute_result",
          "data": {
            "text/plain": [
              "Text(0.5, 1.0, 'MSE vs. Iterations')"
            ]
          },
          "metadata": {
            "tags": []
          },
          "execution_count": 20
        },
        {
          "output_type": "display_data",
          "data": {
            "image/png": "[encoded data removed]",
            "text/plain": [
              "<Figure size 864x576 with 1 Axes>"
            ]
          },
          "metadata": {
            "tags": [],
            "needs_background": "light"
          }
        }
      ]
    },
    {
      "cell_type": "markdown",
      "metadata": {
        "colab_type": "text",
        "id": "dq2cSVpdmHIq"
      },
      "source": [
        "## Problem  of Overshooting"
      ]
    },
    {
      "cell_type": "code",
      "metadata": {
        "colab_type": "code",
        "id": "lMKKxy0fp9PA",
        "colab": {
          "base_uri": "https://localhost:8080/",
          "height": 1000
        },
        "outputId": "8a93564c-9e7c-45e4-ecc5-9c85fdf93c49"
      },
      "source": [
        "num_iters=250\n",
        "new_theta, cost = gradientDescent(x, y, theta,num_iters, lr=2.1)\n",
        "print(new_theta, cost)"
      ],
      "execution_count": null,
      "outputs": [
        {
          "output_type": "stream",
          "text": [
            "[[-8.53236668e+09 -3.87953241e+10]] [2.05451196e+00 2.45788386e+00 2.94596385e+00 3.53654064e+00\n",
            " 4.25113856e+00 5.11580204e+00 6.16204485e+00 7.42799865e+00\n",
            " 8.95980275e+00 1.08132857e+01 1.30560001e+01 1.57696845e+01\n",
            " 1.90532426e+01 2.30263480e+01 2.78338054e+01 3.36508290e+01\n",
            " 4.06894274e+01 4.92061316e+01 5.95113436e+01 7.19806501e+01\n",
            " 8.70685110e+01 1.05324823e+02 1.27414960e+02 1.54144026e+02\n",
            " 1.86486196e+02 2.25620221e+02 2.72972392e+02 3.30268519e+02\n",
            " 3.99596832e+02 4.83484091e+02 5.84987674e+02 7.07807010e+02\n",
            " 8.56418407e+02 1.03623820e+03 1.25382014e+03 1.51709430e+03\n",
            " 1.83565602e+03 2.22111571e+03 2.68752194e+03 3.25187347e+03\n",
            " 3.93473882e+03 4.76100590e+03 5.76078906e+03 6.97052669e+03\n",
            " 8.43430922e+03 1.02054861e+04 1.23486101e+04 1.49417901e+04\n",
            " 1.80795380e+04 2.18762129e+04 2.64701895e+04 3.20289012e+04\n",
            " 3.87549424e+04 4.68934522e+04 5.67410491e+04 6.86566413e+04\n",
            " 8.30745079e+04 1.00520127e+05 1.21629325e+05 1.47171455e+05\n",
            " 1.78077433e+05 2.15473665e+05 2.60723107e+05 3.15474932e+05\n",
            " 3.81724639e+05 4.61886785e+05 5.58882982e+05 6.76248380e+05\n",
            " 8.18260512e+05 9.90095192e+05 1.19801515e+06 1.44959831e+06\n",
            " 1.75401392e+06 2.12235682e+06 2.56805172e+06 3.10734256e+06\n",
            " 3.75988447e+06 4.54946018e+06 5.50484679e+06 6.66086459e+06\n",
            " 8.05964612e+06 9.75217178e+06 1.18001278e+07 1.42781546e+07\n",
            " 1.72765671e+07 2.09046461e+07 2.52946218e+07 3.06064924e+07\n",
            " 3.70338557e+07 4.48109654e+07 5.42212681e+07 6.56077344e+07\n",
            " 7.93853586e+07 9.60562838e+07 1.16228103e+08 1.40636005e+08\n",
            " 1.70169566e+08 2.05905175e+08 2.49145262e+08 3.01465767e+08\n",
            " 3.64773578e+08 4.41376029e+08 5.34064995e+08 6.46218644e+08\n",
            " 7.81924559e+08 9.46128716e+08 1.14481575e+09 1.38522705e+09\n",
            " 1.67612473e+09 2.02811093e+09 2.45401422e+09 2.96935721e+09\n",
            " 3.59292223e+09 4.34743589e+09 5.26039743e+09 6.36508089e+09\n",
            " 7.70174788e+09 9.31911493e+09 1.12761291e+10 1.36441162e+10\n",
            " 1.65093806e+10 1.99763505e+10 2.41713841e+10 2.92473747e+10\n",
            " 3.53893234e+10 4.28210814e+10 5.18135085e+10 6.26943452e+10\n",
            " 7.58601577e+10 9.17907909e+10 1.11066857e+11 1.34390897e+11\n",
            " 1.62612985e+11 1.96761712e+11 2.38081672e+11 2.88078823e+11\n",
            " 3.48575376e+11 4.21776204e+11 5.10349207e+11 6.17522541e+11\n",
            " 7.47202274e+11 9.04114752e+11 1.09397885e+12 1.32371441e+12\n",
            " 1.60169443e+12 1.93805027e+12 2.34504082e+12 2.83749939e+12\n",
            " 3.43337427e+12 4.15438286e+12 5.02680326e+12 6.08243195e+12\n",
            " 7.35974266e+12 8.90528862e+12 1.07753992e+13 1.30382331e+13\n",
            " 1.57762620e+13 1.90892770e+13 2.30980252e+13 2.79486105e+13\n",
            " 3.38178187e+13 4.09195606e+13 4.95126684e+13 5.99103287e+13\n",
            " 7.24914977e+13 8.77147123e+13 1.06134802e+14 1.28423110e+14\n",
            " 1.55391963e+14 1.88024276e+14 2.27509374e+14 2.75286342e+14\n",
            " 3.33096474e+14 4.03046733e+14 4.87686547e+14 5.90100722e+14\n",
            " 7.14021874e+14 8.63966468e+14 1.04539943e+15 1.26493331e+15\n",
            " 1.53056930e+15 1.85198885e+15 2.24090651e+15 2.71149688e+15\n",
            " 3.28091122e+15 3.96990258e+15 4.80358212e+15 5.81233437e+15\n",
            " 7.03292458e+15 8.50983875e+15 1.02969049e+16 1.24592549e+16\n",
            " 1.50756984e+16 1.82415951e+16 2.20723301e+16 2.67075194e+16\n",
            " 3.23160985e+16 3.91024792e+16 4.73139998e+16 5.72499397e+16\n",
            " 6.92724271e+16 8.38196368e+16 1.01421760e+17 1.22720330e+17\n",
            " 1.48491600e+17 1.79674835e+17 2.17406551e+17 2.63061927e+17\n",
            " 3.18304931e+17 3.85148967e+17 4.66030250e+17 5.63896602e+17\n",
            " 6.82314889e+17 8.25601015e+17 9.98977228e+17 1.20876245e+18\n",
            " 1.46260256e+18 1.76974910e+18 2.14139641e+18 2.59108965e+18\n",
            " 3.13521848e+18 3.79361436e+18 4.59027338e+18 5.55423079e+18\n",
            " 6.72061925e+18 8.13194930e+18 9.83965865e+18 1.19059870e+19\n",
            " 1.44062442e+19 1.74315555e+19 2.10921822e+19 2.55215404e+19\n",
            " 3.08810639e+19 3.73660873e+19 4.52129657e+19 5.47076885e+19\n",
            " 6.61963031e+19 8.00975267e+19 9.69180073e+19 1.17270789e+20\n",
            " 1.41897654e+20 1.71696162e+20 2.07752356e+20 2.51380351e+20\n",
            " 3.04170224e+20 3.68045971e+20 4.45335625e+20 5.38856107e+20\n",
            " 6.52015889e+20 7.88939226e+20]\n"
          ],
          "name": "stdout"
        }
      ]
    },
    {
      "cell_type": "code",
      "metadata": {
        "colab_type": "code",
        "id": "5dXxsY_VjOiQ",
        "colab": {
          "base_uri": "https://localhost:8080/",
          "height": 530
        },
        "outputId": "abbb00ad-9b05-497f-af1e-f7118cd84a0a"
      },
      "source": [
        "fig, ax = plt.subplots(figsize=(12,8))\n",
        "ax.plot(np.arange(num_iters), cost, 'r')\n",
        "ax.set_xlabel('Iterations')\n",
        "ax.set_ylabel('Cost')\n",
        "ax.set_title('MSE vs. Iterations')"
      ],
      "execution_count": null,
      "outputs": [
        {
          "output_type": "execute_result",
          "data": {
            "text/plain": [
              "Text(0.5, 1.0, 'MSE vs. Iterations')"
            ]
          },
          "metadata": {
            "tags": []
          },
          "execution_count": 22
        },
        {
          "output_type": "display_data",
          "data": {
            "image/png": "[encoded data removed]",
            "text/plain": [
              "<Figure size 864x576 with 1 Axes>"
            ]
          },
          "metadata": {
            "tags": [],
            "needs_background": "light"
          }
        }
      ]
    },
    {
      "cell_type": "code",
      "metadata": {
        "colab_type": "code",
        "id": "PQpOeIcpjejI",
        "colab": {
          "base_uri": "https://localhost:8080/",
          "height": 51
        },
        "outputId": "543e78f5-edf3-4709-b1f7-463fc9a630a1"
      },
      "source": [
        "theta,new_theta"
      ],
      "execution_count": null,
      "outputs": [
        {
          "output_type": "execute_result",
          "data": {
            "text/plain": [
              "(array([[-0.38273504, -0.88430753]]),\n",
              " matrix([[-8.53236668e+09, -3.87953241e+10]]))"
            ]
          },
          "metadata": {
            "tags": []
          },
          "execution_count": 27
        }
      ]
    },
    {
      "cell_type": "code",
      "metadata": {
        "colab_type": "code",
        "id": "BpsnmHMUnH4J",
        "colab": {}
      },
      "source": [
        ""
      ],
      "execution_count": null,
      "outputs": []
    }
  ]
}